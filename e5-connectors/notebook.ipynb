{
 "cells": [
  {
   "attachments": {},
   "cell_type": "markdown",
   "metadata": {},
   "source": [
    "\n",
    "---\n",
    "\n",
    "### Reminder: This 📘 `.NET Interactive` notebook needs to be run from VS Code with [these prerequisites](../PREREQS.md)."
   ]
  },
  {
   "attachments": {},
   "cell_type": "markdown",
   "metadata": {},
   "source": [
    "#### How to use this notebook: \n",
    "\n",
    "* Just read the text and scroll along until you run into code blocks.\n",
    "* Code blocks have computer code inside them — hover over the block and you can run the code.\n",
    "* Run the code by hitting the ▶️ \"play\" button to the left. If the code runs you'll see a ✔️. If not, you'll get a ❌.\n",
    "* The output and status of the code block will appear just below itself — you need to scroll down further to see it.\n",
    "* Sometimes a code block will ask you for input in a hard-to-notice dialog box 👆 at the top of your notebook window. \n",
    "\n",
    "---"
   ]
  },
  {
   "attachments": {},
   "cell_type": "markdown",
   "metadata": {},
   "source": [
    "# Recipe V: 🍋 Connectors w/ Bing\n",
    "## 🧑‍🍳 Cook using fresher context with live data from APIs\n",
    "\n",
    "## Step 1: Instantiate a 🔥 kernel "
   ]
  },
  {
   "cell_type": "code",
   "execution_count": 1,
   "metadata": {
    "dotnet_interactive": {
     "language": "csharp"
    },
    "polyglot_notebook": {
     "kernelName": "csharp"
    },
    "vscode": {
     "languageId": "polyglot-notebook"
    }
   },
   "outputs": [
    {
     "data": {
      "text/html": [
       "<div><div></div><div></div><div><strong>Installed Packages</strong><ul><li><span>Microsoft.SemanticKernel, 0.9.61.1-preview</span></li><li><span>Microsoft.SemanticKernel.Skills.Web, 0.9.61.1-preview</span></li></ul></div></div>"
      ]
     },
     "metadata": {},
     "output_type": "display_data"
    }
   ],
   "source": [
    "#r \"nuget: Microsoft.SemanticKernel, 0.9.61.1-preview\"\n",
    "#r \"nuget: Microsoft.SemanticKernel.Skills.Web, 0.9.61.1-preview\"\n",
    "\n",
    "#!import ../config/Settings.cs\n",
    "\n",
    "using Microsoft.SemanticKernel;\n",
    "using Microsoft.SemanticKernel.KernelExtensions;\n",
    "using Microsoft.SemanticKernel.Configuration;\n",
    "using Microsoft.SemanticKernel.SemanticFunctions;\n",
    "using Microsoft.SemanticKernel.Orchestration;\n",
    "\n",
    "IKernel kernel = Microsoft.SemanticKernel.Kernel.Builder.Build();\n",
    "\n",
    "var (useAzureOpenAI, model, azureEndpoint, apiKey, orgId) = Settings.LoadFromFile();\n",
    "\n",
    "if (useAzureOpenAI)\n",
    "    kernel.Config.AddAzureOpenAITextCompletion(\"davinci\", model, azureEndpoint, apiKey);\n",
    "else\n",
    "    kernel.Config.AddOpenAITextCompletion(\"davinci\", model, apiKey, orgId);"
   ]
  },
  {
   "attachments": {},
   "cell_type": "markdown",
   "metadata": {},
   "source": [
    "## Step 2: Integrate live data with the Bing Web Search API 🍋 connector\n",
    "\n",
    "To get a Bing Web Search API key visit [this resource](https://www.microsoft.com/en-us/bing/apis/bing-web-search-api) to start. Once you have that in hand, you can now grab live search information to get added to the context of your choice. For example, we can find out what's the tallest building in Europe:"
   ]
  },
  {
   "cell_type": "code",
   "execution_count": 3,
   "metadata": {
    "dotnet_interactive": {
     "language": "csharp"
    },
    "polyglot_notebook": {
     "kernelName": "csharp"
    },
    "vscode": {
     "languageId": "polyglot-notebook"
    }
   },
   "outputs": [
    {
     "name": "stdout",
     "output_type": "stream",
     "text": [
      "The tallest building in New York is One World Trade Center, which rises 1,776 feet (541 m). [2] [3] [4] The 104-story [A] skyscraper also stands as the tallest building in the United States, the tallest building in the Western Hemisphere, and the seventh-tallest building in the world.\n"
     ]
    }
   ],
   "source": [
    "using Microsoft.SemanticKernel.Skills.Web;\n",
    "using Microsoft.SemanticKernel.Skills.Web.Bing;\n",
    "\n",
    "var bingApiKey = (await InteractiveKernel.GetPasswordAsync(\"Please enter your Bing Search API key\")).GetClearTextPassword();\n",
    "var bingConnector = new BingConnector(bingApiKey);\n",
    "\n",
    "var webSearchEngineSkill = new WebSearchEngineSkill(bingConnector);\n",
    "var web = kernel.ImportSkill(webSearchEngineSkill);\n",
    "\n",
    "var bingResult = await kernel.RunAsync(\n",
    "    \"What's the tallest building in NYC?\", \n",
    "    web[\"SearchAsync\"]\n",
    ");\n",
    "Console.WriteLine(bingResult);"
   ]
  },
  {
   "attachments": {},
   "cell_type": "markdown",
   "metadata": {},
   "source": [
    "> ✅ Keep in mind that getting a Bing Web Search API key will require you to have a fresh FREE Azure account, or else a paid Azure account with active billing credentials.\n",
    "\n",
    "> 🤔 **Get `\"Error: Response status code does not indicate success: 401 (PermissionDenied).\"` message?** This could happen if you just provisioned a Bing Web Search API. Wait a few minutes and try again. \n",
    "\n",
    "> 😱 **Get a different error message?** go to https://aka.ms/sk/discord where we have realtime support available to troubleshoot your problem."
   ]
  },
  {
   "attachments": {},
   "cell_type": "markdown",
   "metadata": {},
   "source": [
    "## Step 3: Combine existing 🥑 memories with fresh 🍋 data\n",
    "\n",
    "So we take our memories to the next level by providing it \"live\" memories that are delivered via a connector. It's a terrific combination of both _timeless_ information and _timely_ information. We feed the output of the `SearchAsync` function into a custom-crafted inline semantic function to tell a short story while including a few \"facts\" as inline 🥑 memories, like:\n",
    "\n",
    "1. I'm tall-ish: about 5ft 11in\n",
    "2. I like sushi — but not the kind with uni\n",
    "\n",
    "And we'll add a fresh memory that we grab from a Bing 🍋 connector to brag that we've been to `the tallest building in NYC` by adding a 3rd fact of:\n",
    "\n",
    "3. I've been to <the tallest building in NYC>"
   ]
  },
  {
   "cell_type": "code",
   "execution_count": 4,
   "metadata": {
    "dotnet_interactive": {
     "language": "csharp"
    },
    "polyglot_notebook": {
     "kernelName": "csharp"
    },
    "vscode": {
     "languageId": "polyglot-notebook"
    }
   },
   "outputs": [
    {
     "name": "stdout",
     "output_type": "stream",
     "text": [
      "\n",
      "I'm a tall-ish person, standing at 5ft 11in. I have a love for sushi, but I can't stand the kind with uni. One of my most memorable experiences was visiting the tallest building in New York, One World Trade Center. It stands at a staggering 1,776 feet and is the tallest building in the United States and the Western Hemisphere. I was in awe as I stood at the top, taking in the breathtaking views. It's a moment I'll never forget.\n"
     ]
    }
   ],
   "source": [
    "var myInlineSemanticFunction = kernel.CreateSemanticFunction(@\"\n",
    "These are facts about me:\n",
    "1. I'm tall-ish: about 5ft 11in\n",
    "2. I like sushi — but not the kind with uni\n",
    "3. I've been to {{$input}}\n",
    "Here is a short story under 100 words about me:\n",
    "\", maxTokens: 200, temperature: 0.1, topP: .1);\n",
    "\n",
    "var result = await kernel.RunAsync(\n",
    "    \"What's the tallest building in NYC?\", \n",
    "    web[\"SearchAsync\"],\n",
    "    myInlineSemanticFunction\n",
    ");\n",
    "\n",
    "Console.WriteLine(result);"
   ]
  },
  {
   "attachments": {},
   "cell_type": "markdown",
   "metadata": {},
   "source": [
    "Now you can see how it's possible to use Semantic Kernel in a variety of ways — from designing prompts, expanding a prompt's context with memories, and now drawing live data into an LLM AI's processing capability.\n",
    "\n",
    "## Step 4: Let's go one step further and add some extra seasoning with the `SummarizeSkill.Notegen` 🧂 function"
   ]
  },
  {
   "cell_type": "code",
   "execution_count": 5,
   "metadata": {
    "dotnet_interactive": {
     "language": "csharp"
    },
    "polyglot_notebook": {
     "kernelName": "csharp"
    },
    "vscode": {
     "languageId": "polyglot-notebook"
    }
   },
   "outputs": [
    {
     "name": "stdout",
     "output_type": "stream",
     "text": [
      "\n",
      "Tall-ish person, 5ft 11in\n",
      "Loves sushi, dislikes uni\n",
      "Visited One World Trade Center, tallest building in US and Western Hemisphere\n",
      "Stands at 1,776 feet\n",
      "Breathtaking views from top\n",
      "Unforgettable moment\n"
     ]
    }
   ],
   "source": [
    "var skillsDirectory = Path.Combine(System.IO.Directory.GetCurrentDirectory(), \"skills\");\n",
    "var mySkill = kernel.ImportSemanticSkillFromDirectory(skillsDirectory, \"SummarizeSkill\");\n",
    "\n",
    "var result = await kernel.RunAsync(\n",
    "    \"What's the tallest building in NYC?\", \n",
    "    web[\"SearchAsync\"],\n",
    "    myInlineSemanticFunction,\n",
    "    mySkill[\"Notegen\"]\n",
    ");\n",
    "\n",
    "// Return the result to the Notebook\n",
    "Console.WriteLine(result);"
   ]
  },
  {
   "attachments": {},
   "cell_type": "markdown",
   "metadata": {},
   "source": [
    "If you look closely at the code, what we did is make a \"chain\" of functions. We'll be doing that in our next recipe section in the context of a well-known process for innovation called \"Design Thinking.\""
   ]
  },
  {
   "attachments": {},
   "cell_type": "markdown",
   "metadata": {},
   "source": [
    "# ⏭️ Next Steps\n",
    "\n",
    "Run through more advanced examples in the notebooks that are available in our GitHub repo at [https://aka.ms/sk/repo](https://aka.ms/sk/repo).\n",
    "\n",
    "[Design thinking with 🔥 kernel is up next!](../e6-design-chain/notebook.ipynb)\n",
    "\n",
    "Or stay a longer while and ask Bing to added new information from the Internet to fortify your LLM AI magic. And you can also try different functions within the `SummarizeSkill` to see different outputs in Step 4."
   ]
  }
 ],
 "metadata": {
  "language_info": {
   "name": "python"
  },
  "orig_nbformat": 4
 },
 "nbformat": 4,
 "nbformat_minor": 2
}
